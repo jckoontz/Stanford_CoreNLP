{
 "cells": [
  {
   "cell_type": "code",
   "execution_count": 1,
   "metadata": {
    "collapsed": true
   },
   "outputs": [],
   "source": [
    "import io"
   ]
  },
  {
   "cell_type": "code",
   "execution_count": 89,
   "metadata": {
    "collapsed": true
   },
   "outputs": [],
   "source": [
    "with io.open(\"spanglish_textsonly.txt\", \"r\", encoding=\"utf-8\") as f: \n",
    "    sentences = [line.strip(\"\\n\") for line in f]"
   ]
  },
  {
   "cell_type": "code",
   "execution_count": 91,
   "metadata": {},
   "outputs": [
    {
     "data": {
      "text/plain": [
       "7"
      ]
     },
     "execution_count": 91,
     "metadata": {},
     "output_type": "execute_result"
    }
   ],
   "source": [
    "len(sentences[10])"
   ]
  },
  {
   "cell_type": "code",
   "execution_count": 76,
   "metadata": {
    "collapsed": true
   },
   "outputs": [],
   "source": [
    "with io.open(\"Spanglish.txt\", \"r\", encoding=\"utf-8\") as f: \n",
    "    sentences2 = [line.split() for line in f]"
   ]
  },
  {
   "cell_type": "code",
   "execution_count": 10,
   "metadata": {},
   "outputs": [
    {
     "data": {
      "text/plain": [
       "[['<SENTB>', '<SENTB>'],\n",
       " ['Work', 'lang1'],\n",
       " ['Tomorrow', 'lang1'],\n",
       " ['days', 'lang1'],\n",
       " ['till', 'lang1'],\n",
       " ['payday', 'lang1'],\n",
       " ['<SENTB>', '<SENTB>'],\n",
       " ['Today', 'lang1'],\n",
       " ['was', 'lang1'],\n",
       " ['fun', 'lang1'],\n",
       " ['<SENTB>', '<SENTB>'],\n",
       " ['Tired', 'lang1'],\n",
       " ['<SENTB>', '<SENTB>'],\n",
       " ['lmfao', 'lang1'],\n",
       " ['<SENTB>', '<SENTB>']]"
      ]
     },
     "execution_count": 10,
     "metadata": {},
     "output_type": "execute_result"
    }
   ],
   "source": [
    "sentences2[:15]"
   ]
  },
  {
   "cell_type": "code",
   "execution_count": 92,
   "metadata": {},
   "outputs": [
    {
     "data": {
      "text/plain": [
       "<map at 0x106d86390>"
      ]
     },
     "execution_count": 92,
     "metadata": {},
     "output_type": "execute_result"
    }
   ],
   "source": [
    "map(lambda x:x.lower(),sentences)"
   ]
  },
  {
   "cell_type": "code",
   "execution_count": 26,
   "metadata": {
    "collapsed": true
   },
   "outputs": [],
   "source": [
    "x = []\n",
    "i = 0\n",
    "for i in range(len(sentences)): \n",
    "    x.append(sentences[i])\n",
    "    i += 1"
   ]
  },
  {
   "cell_type": "code",
   "execution_count": 93,
   "metadata": {
    "collapsed": true
   },
   "outputs": [],
   "source": [
    "\"\"\"Generate character bigrams \n",
    "     @Returns: List of character bigrams\n",
    "     @Params: list of sentence or word tokens\"\"\"\n",
    "def ngram(text,grams):  \n",
    "    model=[]  \n",
    "    count=0  \n",
    "    for token in text[:len(text)-grams+1]:  \n",
    "        model.append(text[count:count+grams])  \n",
    "        count=count+1  \n",
    "    return model"
   ]
  },
  {
   "cell_type": "code",
   "execution_count": 44,
   "metadata": {},
   "outputs": [
    {
     "data": {
      "text/plain": [
       "[]"
      ]
     },
     "execution_count": 44,
     "metadata": {},
     "output_type": "execute_result"
    }
   ],
   "source": [
    "bigrams = []\n",
    "ngrams_clean = []\n",
    "ngrams_clean.append(ngram(sentences[0], 2))\n",
    "ngrams_clean.append(ngram(sentences[10], 2))\n",
    "ngrams_clean[0]\n",
    "ngrams_clean[1]"
   ]
  },
  {
   "cell_type": "code",
   "execution_count": 168,
   "metadata": {
    "collapsed": true
   },
   "outputs": [],
   "source": [
    "\n",
    "def word2ngrams(text, n=3, exact=True):\n",
    "    if(len(text) <= 3):\n",
    "        #return \"$\" + text + \"#\"\n",
    "        #return [\"\".join(j) for j in zip(*[text[i:] for i in range(n-1)])]\n",
    "        return text\n",
    "    else:\n",
    "        return [\"\".join(j) for j in zip(*[text[i:] for i in range(n)])]\n"
   ]
  },
  {
   "cell_type": "code",
   "execution_count": 169,
   "metadata": {
    "collapsed": true
   },
   "outputs": [],
   "source": [
    "i = 0\n",
    "trigrams = []\n",
    "junk = []\n",
    "for i in range(len(sentences)): \n",
    "    junk.append(word2ngrams(sentences[i]))\n",
    "    st = \" \".join(junk[i])\n",
    "    trigrams.append(st)\n",
    "    i += 1\n",
    "    "
   ]
  },
  {
   "cell_type": "code",
   "execution_count": 170,
   "metadata": {},
   "outputs": [
    {
     "data": {
      "text/plain": [
       "8011"
      ]
     },
     "execution_count": 170,
     "metadata": {},
     "output_type": "execute_result"
    }
   ],
   "source": [
    "len(trigrams)"
   ]
  },
  {
   "cell_type": "code",
   "execution_count": 167,
   "metadata": {
    "collapsed": true
   },
   "outputs": [],
   "source": [
    "with io.open(\"Trigrams.txt\",\"w\", encoding=\"utf-8\") as o: \n",
    "    i = 0\n",
    "    for i in range(len(trigrams)): \n",
    "        print(trigrams[i], file=o)\n",
    "        i+=1"
   ]
  },
  {
   "cell_type": "code",
   "execution_count": 171,
   "metadata": {},
   "outputs": [
    {
     "data": {
      "text/plain": [
       "['o h',\n",
       " ',',\n",
       " 'n o',\n",
       " '.',\n",
       " 'i',\n",
       " 'a m',\n",
       " 'n o t',\n",
       " 'gon onn nna',\n",
       " 'tak ake',\n",
       " 'h e r']"
      ]
     },
     "execution_count": 171,
     "metadata": {},
     "output_type": "execute_result"
    }
   ],
   "source": [
    "trigrams[:10]"
   ]
  },
  {
   "cell_type": "code",
   "execution_count": null,
   "metadata": {
    "collapsed": true
   },
   "outputs": [],
   "source": []
  },
  {
   "cell_type": "code",
   "execution_count": 4,
   "metadata": {},
   "outputs": [],
   "source": [
    "import io\n",
    "with io.open(\"../Master/CodeSwitching/Data/Original/DataSet2/Span-Eng.txt\") as f: \n",
    "    documents = [line.strip(\"\\n\").split(\"|\") for line in f]"
   ]
  },
  {
   "cell_type": "code",
   "execution_count": 20,
   "metadata": {},
   "outputs": [],
   "source": [
    "i = 0\n",
    "texts = []\n",
    "texts2 = []\n",
    "labels = []\n",
    "while i < len(documents):\n",
    "    texts.append(documents[i][0])\n",
    "    texts2.append(\"#\" + documents[i][0] + \"$\")\n",
    "    labels.append(documents[i][1])\n",
    "    i += 1"
   ]
  },
  {
   "cell_type": "code",
   "execution_count": 22,
   "metadata": {},
   "outputs": [
    {
     "name": "stdout",
     "output_type": "stream",
     "text": [
      "['oh', ',', 'no', '.', 'i', 'am', 'not', 'gonna', 'take', 'her']\n",
      "['#oh$', '#,$', '#no$', '#.$', '#i$', '#am$', '#not$', '#gonna$', '#take$', '#her$']\n",
      "['eng', 'punct', 'eng', 'punct', 'eng', 'eng', 'eng', 'eng', 'eng', 'eng']\n"
     ]
    }
   ],
   "source": [
    "print(texts[:10])\n",
    "print(texts2[:10])\n",
    "print(labels[:10])"
   ]
  },
  {
   "cell_type": "code",
   "execution_count": 29,
   "metadata": {
    "collapsed": true
   },
   "outputs": [],
   "source": [
    "def word2ngrams(text, n=3, exact=True):\n",
    "    if(len(text) <= n):\n",
    "        return text\n",
    "    else:\n",
    "        return [\"\".join(j) for j in zip(*[text[i:] for i in range(n)])]"
   ]
  },
  {
   "cell_type": "code",
   "execution_count": 30,
   "metadata": {},
   "outputs": [],
   "source": [
    "i = 0\n",
    "trigrams = []\n",
    "trigrams2 = []\n",
    "temp = []\n",
    "temp2 = []\n",
    "for i in range(len(texts)): \n",
    "    temp.append(word2ngrams(texts[i]))\n",
    "    temp2.append(word2ngrams(texts2[i]))\n",
    "    st = \" \".join(temp[i])\n",
    "    st2 = \" \".join(temp2[i])\n",
    "    trigrams.append(st)\n",
    "    trigrams2.append(st2)\n",
    "    i += 1"
   ]
  },
  {
   "cell_type": "code",
   "execution_count": 31,
   "metadata": {},
   "outputs": [
    {
     "name": "stdout",
     "output_type": "stream",
     "text": [
      "['o h', ',', 'n o', '.', 'i', 'a m', 'n o t', 'gon onn nna', 'tak ake', 'h e r']\n",
      "['#oh oh$', '# , $', '#no no$', '# . $', '# i $', '#am am$', '#no not ot$', '#go gon onn nna na$', '#ta tak ake ke$', '#he her er$']\n"
     ]
    }
   ],
   "source": [
    "print(trigrams[:10])\n",
    "print(trigrams2[:10])"
   ]
  },
  {
   "cell_type": "code",
   "execution_count": null,
   "metadata": {
    "collapsed": true
   },
   "outputs": [],
   "source": []
  }
 ],
 "metadata": {
  "kernelspec": {
   "display_name": "Python 3",
   "language": "python",
   "name": "python3"
  },
  "language_info": {
   "codemirror_mode": {
    "name": "ipython",
    "version": 3
   },
   "file_extension": ".py",
   "mimetype": "text/x-python",
   "name": "python",
   "nbconvert_exporter": "python",
   "pygments_lexer": "ipython3",
   "version": "3.5.2"
  }
 },
 "nbformat": 4,
 "nbformat_minor": 2
}
